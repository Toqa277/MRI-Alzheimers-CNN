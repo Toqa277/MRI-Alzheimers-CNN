{
 "cells": [
  {
   "cell_type": "code",
   "execution_count": 1,
   "id": "0d8f9e62",
   "metadata": {
    "execution": {
     "iopub.execute_input": "2025-01-05T17:10:49.656863Z",
     "iopub.status.busy": "2025-01-05T17:10:49.656645Z",
     "iopub.status.idle": "2025-01-05T17:10:54.033921Z",
     "shell.execute_reply": "2025-01-05T17:10:54.033004Z"
    },
    "papermill": {
     "duration": 4.386251,
     "end_time": "2025-01-05T17:10:54.035793",
     "exception": false,
     "start_time": "2025-01-05T17:10:49.649542",
     "status": "completed"
    },
    "tags": []
   },
   "outputs": [
    {
     "name": "stdout",
     "output_type": "stream",
     "text": [
      "Requirement already satisfied: gdown in /usr/local/lib/python3.10/dist-packages (5.2.0)\r\n",
      "Requirement already satisfied: beautifulsoup4 in /usr/local/lib/python3.10/dist-packages (from gdown) (4.12.3)\r\n",
      "Requirement already satisfied: filelock in /usr/local/lib/python3.10/dist-packages (from gdown) (3.16.1)\r\n",
      "Requirement already satisfied: requests[socks] in /usr/local/lib/python3.10/dist-packages (from gdown) (2.32.3)\r\n",
      "Requirement already satisfied: tqdm in /usr/local/lib/python3.10/dist-packages (from gdown) (4.66.5)\r\n",
      "Requirement already satisfied: soupsieve>1.2 in /usr/local/lib/python3.10/dist-packages (from beautifulsoup4->gdown) (2.6)\r\n",
      "Requirement already satisfied: charset-normalizer<4,>=2 in /usr/local/lib/python3.10/dist-packages (from requests[socks]->gdown) (3.3.2)\r\n",
      "Requirement already satisfied: idna<4,>=2.5 in /usr/local/lib/python3.10/dist-packages (from requests[socks]->gdown) (3.10)\r\n",
      "Requirement already satisfied: urllib3<3,>=1.21.1 in /usr/local/lib/python3.10/dist-packages (from requests[socks]->gdown) (2.2.3)\r\n",
      "Requirement already satisfied: certifi>=2017.4.17 in /usr/local/lib/python3.10/dist-packages (from requests[socks]->gdown) (2024.8.30)\r\n",
      "Requirement already satisfied: PySocks!=1.5.7,>=1.5.6 in /usr/local/lib/python3.10/dist-packages (from requests[socks]->gdown) (1.7.1)\r\n"
     ]
    }
   ],
   "source": [
    "! pip install gdown"
   ]
  },
  {
   "cell_type": "code",
   "execution_count": 2,
   "id": "3ac592ab",
   "metadata": {
    "execution": {
     "iopub.execute_input": "2025-01-05T17:10:54.049466Z",
     "iopub.status.busy": "2025-01-05T17:10:54.049195Z",
     "iopub.status.idle": "2025-01-05T17:11:03.108862Z",
     "shell.execute_reply": "2025-01-05T17:11:03.108140Z"
    },
    "papermill": {
     "duration": 9.067845,
     "end_time": "2025-01-05T17:11:03.110355",
     "exception": false,
     "start_time": "2025-01-05T17:10:54.042510",
     "status": "completed"
    },
    "tags": []
   },
   "outputs": [],
   "source": [
    "import os  \n",
    "import tensorflow as tf\n",
    "from tensorflow.keras.utils import image_dataset_from_directory\n",
    "from tensorflow.keras import Input, layers, models\n",
    "from tensorflow.keras.utils import to_categorical\n",
    "from tensorflow.keras.callbacks import LearningRateScheduler\n",
    "import matplotlib.pyplot as plt\n",
    "import numpy as np\n",
    "from sklearn.metrics import confusion_matrix, ConfusionMatrixDisplay, roc_curve, auc, classification_report\n",
    "from sklearn.preprocessing import label_binarize"
   ]
  },
  {
   "cell_type": "code",
   "execution_count": 3,
   "id": "3d8b842c",
   "metadata": {
    "execution": {
     "iopub.execute_input": "2025-01-05T17:11:03.123804Z",
     "iopub.status.busy": "2025-01-05T17:11:03.123328Z",
     "iopub.status.idle": "2025-01-05T17:11:03.130139Z",
     "shell.execute_reply": "2025-01-05T17:11:03.129499Z"
    },
    "papermill": {
     "duration": 0.014754,
     "end_time": "2025-01-05T17:11:03.131435",
     "exception": false,
     "start_time": "2025-01-05T17:11:03.116681",
     "status": "completed"
    },
    "tags": []
   },
   "outputs": [],
   "source": [
    "# Paths \n",
    "dataset_dir = r'/content/drivee/Shareddrives/ML_Data/2D_datasets'  # Directory with class folders\n",
    "output_dir = r'/content/drivee/Shareddrives/ML_Data/2D_datasets/Split_Data'  # Directory to store split dataset\n",
    "\n",
    "# Create output folders\n",
    "os.makedirs(output_dir, exist_ok=True)\n",
    "os.makedirs(os.path.join(output_dir, \"train\"), exist_ok=True)\n",
    "os.makedirs(os.path.join(output_dir, \"val\"), exist_ok=True)\n",
    "os.makedirs(os.path.join(output_dir, \"test\"), exist_ok=True)"
   ]
  },
  {
   "cell_type": "code",
   "execution_count": 4,
   "id": "79a069ab",
   "metadata": {
    "execution": {
     "iopub.execute_input": "2025-01-05T17:11:03.144740Z",
     "iopub.status.busy": "2025-01-05T17:11:03.144470Z",
     "iopub.status.idle": "2025-01-05T17:11:03.151589Z",
     "shell.execute_reply": "2025-01-05T17:11:03.150892Z"
    },
    "papermill": {
     "duration": 0.015131,
     "end_time": "2025-01-05T17:11:03.152862",
     "exception": false,
     "start_time": "2025-01-05T17:11:03.137731",
     "status": "completed"
    },
    "tags": []
   },
   "outputs": [
    {
     "name": "stdout",
     "output_type": "stream",
     "text": [
      "Dataset splitting completed.\n"
     ]
    }
   ],
   "source": [
    "# Loop through each class folder\n",
    "for class_name in os.listdir(dataset_dir):\n",
    "    class_path = os.path.join(dataset_dir, class_name)\n",
    "\n",
    "    # Skip if not a directory or if it's the output directory\n",
    "    if not os.path.isdir(class_path) or class_name == 'Split_Data':\n",
    "        continue\n",
    "\n",
    "    # Get all image filenames for the current class\n",
    "    image_files = [os.path.join(class_path, f) for f in os.listdir(class_path) if f.endswith('.png')]\n",
    "\n",
    "    # Split into train (80%) and test (20%)\n",
    "    train_files, test_files = train_test_split(image_files, test_size=0.2, random_state=42)\n",
    "\n",
    "    # From the training set, split into train (80% of train) and validation (20% of train)\n",
    "    train_files, val_files = train_test_split(train_files, test_size=0.2, random_state=42)\n",
    "\n",
    "    # Define destination paths for this class\n",
    "    train_class_dir = os.path.join(output_dir, \"train\", class_name)\n",
    "    val_class_dir = os.path.join(output_dir, \"val\", class_name)\n",
    "    test_class_dir = os.path.join(output_dir, \"test\", class_name)\n",
    "\n",
    "    # Create directories\n",
    "    os.makedirs(train_class_dir, exist_ok=True)\n",
    "    os.makedirs(val_class_dir, exist_ok=True)\n",
    "    os.makedirs(test_class_dir, exist_ok=True)\n",
    "\n",
    "    # Move files to their respective directories\n",
    "    for f in train_files:\n",
    "        shutil.copy(f, train_class_dir)\n",
    "    for f in val_files:\n",
    "        shutil.copy(f, val_class_dir)\n",
    "    for f in test_files:\n",
    "        shutil.copy(f, test_class_dir)\n",
    "\n",
    "print(\"Dataset splitting completed.\")"
   ]
  },
  {
   "cell_type": "code",
   "execution_count": 5,
   "id": "2fadb8e8",
   "metadata": {
    "execution": {
     "iopub.execute_input": "2025-01-05T17:11:03.166185Z",
     "iopub.status.busy": "2025-01-05T17:11:03.165923Z",
     "iopub.status.idle": "2025-01-05T17:11:03.169717Z",
     "shell.execute_reply": "2025-01-05T17:11:03.168874Z"
    },
    "papermill": {
     "duration": 0.011976,
     "end_time": "2025-01-05T17:11:03.171005",
     "exception": false,
     "start_time": "2025-01-05T17:11:03.159029",
     "status": "completed"
    },
    "tags": []
   },
   "outputs": [],
   "source": [
    "# Define the Splitted dataset directory uploaded from the drive to be used in kaggle\n",
    "dataset_dir = \"/kaggle/input/2d-mri-splitteddatavol-2/Split_Data_vol2\"\n",
    "\n",
    "# Define directories for train, validation, and test  \n",
    "train_dir = os.path.join(dataset_dir, 'train')  \n",
    "val_dir = os.path.join(dataset_dir, 'val')  \n",
    "test_dir = os.path.join(dataset_dir, 'test')  "
   ]
  },
  {
   "cell_type": "code",
   "execution_count": 6,
   "id": "87771f68",
   "metadata": {
    "execution": {
     "iopub.execute_input": "2025-01-05T17:11:03.183851Z",
     "iopub.status.busy": "2025-01-05T17:11:03.183609Z",
     "iopub.status.idle": "2025-01-05T17:11:06.644476Z",
     "shell.execute_reply": "2025-01-05T17:11:06.643664Z"
    },
    "papermill": {
     "duration": 3.468844,
     "end_time": "2025-01-05T17:11:06.645986",
     "exception": false,
     "start_time": "2025-01-05T17:11:03.177142",
     "status": "completed"
    },
    "tags": []
   },
   "outputs": [
    {
     "name": "stdout",
     "output_type": "stream",
     "text": [
      "Found 1794 files belonging to 3 classes.\n",
      "Found 451 files belonging to 3 classes.\n",
      "Found 563 files belonging to 3 classes.\n"
     ]
    }
   ],
   "source": [
    "# Manually define label mapping  \n",
    "label_mapping = {  \n",
    "    'AD': 0,  # Alzheimer's Disease  \n",
    "    'CN': 1,  # Cognitively Normal  \n",
    "    'MCI': 2   # Mild Cognitive Impairment  \n",
    "}  \n",
    "\n",
    "# Normalization layer  \n",
    "normalization_layer = layers.Rescaling(1./255)  \n",
    "\n",
    "# Preprocess function  \n",
    "def preprocess_data(images, labels):  \n",
    "    images = normalization_layer(images)  # Normalize images to [0, 1]  \n",
    "    return images, labels  \n",
    "\n",
    "# Load datasets with processing  \n",
    "def load_dataset(directory):  \n",
    "    return tf.keras.utils.image_dataset_from_directory(  \n",
    "        directory,  \n",
    "        image_size=(224, 224),  \n",
    "        color_mode=\"grayscale\",  \n",
    "        batch_size=32,  \n",
    "        label_mode='categorical'  # this will map labels based on folder names  \n",
    "    ).map(lambda x, y: preprocess_data(x, y))  \n",
    "\n",
    "# Load datasets  \n",
    "train_ds = load_dataset(train_dir)  \n",
    "val_ds = load_dataset(val_dir)  \n",
    "test_ds = load_dataset(test_dir)  \n",
    "\n",
    "# To extract manual labels, create a custom labelling function  \n",
    "def manual_label_extractor(labels):  \n",
    "    return tf.one_hot(tf.argmax(labels, axis=-1), depth=len(label_mapping))  \n",
    "\n",
    "# Set the labels manually  \n",
    "train_ds = train_ds.map(lambda x, y: (x, manual_label_extractor(y)))  \n",
    "val_ds = val_ds.map(lambda x, y: (x, manual_label_extractor(y)))  \n",
    "test_ds = test_ds.map(lambda x, y: (x, manual_label_extractor(y)))  "
   ]
  },
  {
   "cell_type": "code",
   "execution_count": 7,
   "id": "2f7c21f8",
   "metadata": {
    "execution": {
     "iopub.execute_input": "2025-01-05T17:11:06.659578Z",
     "iopub.status.busy": "2025-01-05T17:11:06.659347Z",
     "iopub.status.idle": "2025-01-05T17:11:06.784260Z",
     "shell.execute_reply": "2025-01-05T17:11:06.783428Z"
    },
    "papermill": {
     "duration": 0.132928,
     "end_time": "2025-01-05T17:11:06.785503",
     "exception": false,
     "start_time": "2025-01-05T17:11:06.652575",
     "status": "completed"
    },
    "tags": []
   },
   "outputs": [
    {
     "data": {
      "text/html": [
       "<pre style=\"white-space:pre;overflow-x:auto;line-height:normal;font-family:Menlo,'DejaVu Sans Mono',consolas,'Courier New',monospace\"><span style=\"font-weight: bold\">Model: \"functional\"</span>\n",
       "</pre>\n"
      ],
      "text/plain": [
       "\u001b[1mModel: \"functional\"\u001b[0m\n"
      ]
     },
     "metadata": {},
     "output_type": "display_data"
    },
    {
     "data": {
      "text/html": [
       "<pre style=\"white-space:pre;overflow-x:auto;line-height:normal;font-family:Menlo,'DejaVu Sans Mono',consolas,'Courier New',monospace\">┏━━━━━━━━━━━━━━━━━━━━━━━━━━━━━━━━━━━━━━┳━━━━━━━━━━━━━━━━━━━━━━━━━━━━━┳━━━━━━━━━━━━━━━━━┓\n",
       "┃<span style=\"font-weight: bold\"> Layer (type)                         </span>┃<span style=\"font-weight: bold\"> Output Shape                </span>┃<span style=\"font-weight: bold\">         Param # </span>┃\n",
       "┡━━━━━━━━━━━━━━━━━━━━━━━━━━━━━━━━━━━━━━╇━━━━━━━━━━━━━━━━━━━━━━━━━━━━━╇━━━━━━━━━━━━━━━━━┩\n",
       "│ input_layer (<span style=\"color: #0087ff; text-decoration-color: #0087ff\">InputLayer</span>)             │ (<span style=\"color: #00d7ff; text-decoration-color: #00d7ff\">None</span>, <span style=\"color: #00af00; text-decoration-color: #00af00\">224</span>, <span style=\"color: #00af00; text-decoration-color: #00af00\">224</span>, <span style=\"color: #00af00; text-decoration-color: #00af00\">1</span>)         │               <span style=\"color: #00af00; text-decoration-color: #00af00\">0</span> │\n",
       "├──────────────────────────────────────┼─────────────────────────────┼─────────────────┤\n",
       "│ conv2d (<span style=\"color: #0087ff; text-decoration-color: #0087ff\">Conv2D</span>)                      │ (<span style=\"color: #00d7ff; text-decoration-color: #00d7ff\">None</span>, <span style=\"color: #00af00; text-decoration-color: #00af00\">222</span>, <span style=\"color: #00af00; text-decoration-color: #00af00\">222</span>, <span style=\"color: #00af00; text-decoration-color: #00af00\">256</span>)       │           <span style=\"color: #00af00; text-decoration-color: #00af00\">2,560</span> │\n",
       "├──────────────────────────────────────┼─────────────────────────────┼─────────────────┤\n",
       "│ max_pooling2d (<span style=\"color: #0087ff; text-decoration-color: #0087ff\">MaxPooling2D</span>)         │ (<span style=\"color: #00d7ff; text-decoration-color: #00d7ff\">None</span>, <span style=\"color: #00af00; text-decoration-color: #00af00\">111</span>, <span style=\"color: #00af00; text-decoration-color: #00af00\">111</span>, <span style=\"color: #00af00; text-decoration-color: #00af00\">256</span>)       │               <span style=\"color: #00af00; text-decoration-color: #00af00\">0</span> │\n",
       "├──────────────────────────────────────┼─────────────────────────────┼─────────────────┤\n",
       "│ conv2d_1 (<span style=\"color: #0087ff; text-decoration-color: #0087ff\">Conv2D</span>)                    │ (<span style=\"color: #00d7ff; text-decoration-color: #00d7ff\">None</span>, <span style=\"color: #00af00; text-decoration-color: #00af00\">109</span>, <span style=\"color: #00af00; text-decoration-color: #00af00\">109</span>, <span style=\"color: #00af00; text-decoration-color: #00af00\">64</span>)        │         <span style=\"color: #00af00; text-decoration-color: #00af00\">147,520</span> │\n",
       "├──────────────────────────────────────┼─────────────────────────────┼─────────────────┤\n",
       "│ conv2d_2 (<span style=\"color: #0087ff; text-decoration-color: #0087ff\">Conv2D</span>)                    │ (<span style=\"color: #00d7ff; text-decoration-color: #00d7ff\">None</span>, <span style=\"color: #00af00; text-decoration-color: #00af00\">107</span>, <span style=\"color: #00af00; text-decoration-color: #00af00\">107</span>, <span style=\"color: #00af00; text-decoration-color: #00af00\">64</span>)        │          <span style=\"color: #00af00; text-decoration-color: #00af00\">36,928</span> │\n",
       "├──────────────────────────────────────┼─────────────────────────────┼─────────────────┤\n",
       "│ max_pooling2d_1 (<span style=\"color: #0087ff; text-decoration-color: #0087ff\">MaxPooling2D</span>)       │ (<span style=\"color: #00d7ff; text-decoration-color: #00d7ff\">None</span>, <span style=\"color: #00af00; text-decoration-color: #00af00\">53</span>, <span style=\"color: #00af00; text-decoration-color: #00af00\">53</span>, <span style=\"color: #00af00; text-decoration-color: #00af00\">64</span>)          │               <span style=\"color: #00af00; text-decoration-color: #00af00\">0</span> │\n",
       "├──────────────────────────────────────┼─────────────────────────────┼─────────────────┤\n",
       "│ conv2d_3 (<span style=\"color: #0087ff; text-decoration-color: #0087ff\">Conv2D</span>)                    │ (<span style=\"color: #00d7ff; text-decoration-color: #00d7ff\">None</span>, <span style=\"color: #00af00; text-decoration-color: #00af00\">51</span>, <span style=\"color: #00af00; text-decoration-color: #00af00\">51</span>, <span style=\"color: #00af00; text-decoration-color: #00af00\">16</span>)          │           <span style=\"color: #00af00; text-decoration-color: #00af00\">9,232</span> │\n",
       "├──────────────────────────────────────┼─────────────────────────────┼─────────────────┤\n",
       "│ conv2d_4 (<span style=\"color: #0087ff; text-decoration-color: #0087ff\">Conv2D</span>)                    │ (<span style=\"color: #00d7ff; text-decoration-color: #00d7ff\">None</span>, <span style=\"color: #00af00; text-decoration-color: #00af00\">49</span>, <span style=\"color: #00af00; text-decoration-color: #00af00\">49</span>, <span style=\"color: #00af00; text-decoration-color: #00af00\">16</span>)          │           <span style=\"color: #00af00; text-decoration-color: #00af00\">2,320</span> │\n",
       "├──────────────────────────────────────┼─────────────────────────────┼─────────────────┤\n",
       "│ max_pooling2d_2 (<span style=\"color: #0087ff; text-decoration-color: #0087ff\">MaxPooling2D</span>)       │ (<span style=\"color: #00d7ff; text-decoration-color: #00d7ff\">None</span>, <span style=\"color: #00af00; text-decoration-color: #00af00\">24</span>, <span style=\"color: #00af00; text-decoration-color: #00af00\">24</span>, <span style=\"color: #00af00; text-decoration-color: #00af00\">16</span>)          │               <span style=\"color: #00af00; text-decoration-color: #00af00\">0</span> │\n",
       "├──────────────────────────────────────┼─────────────────────────────┼─────────────────┤\n",
       "│ batch_normalization                  │ (<span style=\"color: #00d7ff; text-decoration-color: #00d7ff\">None</span>, <span style=\"color: #00af00; text-decoration-color: #00af00\">24</span>, <span style=\"color: #00af00; text-decoration-color: #00af00\">24</span>, <span style=\"color: #00af00; text-decoration-color: #00af00\">16</span>)          │              <span style=\"color: #00af00; text-decoration-color: #00af00\">64</span> │\n",
       "│ (<span style=\"color: #0087ff; text-decoration-color: #0087ff\">BatchNormalization</span>)                 │                             │                 │\n",
       "├──────────────────────────────────────┼─────────────────────────────┼─────────────────┤\n",
       "│ dropout (<span style=\"color: #0087ff; text-decoration-color: #0087ff\">Dropout</span>)                    │ (<span style=\"color: #00d7ff; text-decoration-color: #00d7ff\">None</span>, <span style=\"color: #00af00; text-decoration-color: #00af00\">24</span>, <span style=\"color: #00af00; text-decoration-color: #00af00\">24</span>, <span style=\"color: #00af00; text-decoration-color: #00af00\">16</span>)          │               <span style=\"color: #00af00; text-decoration-color: #00af00\">0</span> │\n",
       "├──────────────────────────────────────┼─────────────────────────────┼─────────────────┤\n",
       "│ flatten (<span style=\"color: #0087ff; text-decoration-color: #0087ff\">Flatten</span>)                    │ (<span style=\"color: #00d7ff; text-decoration-color: #00d7ff\">None</span>, <span style=\"color: #00af00; text-decoration-color: #00af00\">9216</span>)                │               <span style=\"color: #00af00; text-decoration-color: #00af00\">0</span> │\n",
       "├──────────────────────────────────────┼─────────────────────────────┼─────────────────┤\n",
       "│ dense (<span style=\"color: #0087ff; text-decoration-color: #0087ff\">Dense</span>)                        │ (<span style=\"color: #00d7ff; text-decoration-color: #00d7ff\">None</span>, <span style=\"color: #00af00; text-decoration-color: #00af00\">128</span>)                 │       <span style=\"color: #00af00; text-decoration-color: #00af00\">1,179,776</span> │\n",
       "└──────────────────────────────────────┴─────────────────────────────┴─────────────────┘\n",
       "</pre>\n"
      ],
      "text/plain": [
       "┏━━━━━━━━━━━━━━━━━━━━━━━━━━━━━━━━━━━━━━┳━━━━━━━━━━━━━━━━━━━━━━━━━━━━━┳━━━━━━━━━━━━━━━━━┓\n",
       "┃\u001b[1m \u001b[0m\u001b[1mLayer (type)                        \u001b[0m\u001b[1m \u001b[0m┃\u001b[1m \u001b[0m\u001b[1mOutput Shape               \u001b[0m\u001b[1m \u001b[0m┃\u001b[1m \u001b[0m\u001b[1m        Param #\u001b[0m\u001b[1m \u001b[0m┃\n",
       "┡━━━━━━━━━━━━━━━━━━━━━━━━━━━━━━━━━━━━━━╇━━━━━━━━━━━━━━━━━━━━━━━━━━━━━╇━━━━━━━━━━━━━━━━━┩\n",
       "│ input_layer (\u001b[38;5;33mInputLayer\u001b[0m)             │ (\u001b[38;5;45mNone\u001b[0m, \u001b[38;5;34m224\u001b[0m, \u001b[38;5;34m224\u001b[0m, \u001b[38;5;34m1\u001b[0m)         │               \u001b[38;5;34m0\u001b[0m │\n",
       "├──────────────────────────────────────┼─────────────────────────────┼─────────────────┤\n",
       "│ conv2d (\u001b[38;5;33mConv2D\u001b[0m)                      │ (\u001b[38;5;45mNone\u001b[0m, \u001b[38;5;34m222\u001b[0m, \u001b[38;5;34m222\u001b[0m, \u001b[38;5;34m256\u001b[0m)       │           \u001b[38;5;34m2,560\u001b[0m │\n",
       "├──────────────────────────────────────┼─────────────────────────────┼─────────────────┤\n",
       "│ max_pooling2d (\u001b[38;5;33mMaxPooling2D\u001b[0m)         │ (\u001b[38;5;45mNone\u001b[0m, \u001b[38;5;34m111\u001b[0m, \u001b[38;5;34m111\u001b[0m, \u001b[38;5;34m256\u001b[0m)       │               \u001b[38;5;34m0\u001b[0m │\n",
       "├──────────────────────────────────────┼─────────────────────────────┼─────────────────┤\n",
       "│ conv2d_1 (\u001b[38;5;33mConv2D\u001b[0m)                    │ (\u001b[38;5;45mNone\u001b[0m, \u001b[38;5;34m109\u001b[0m, \u001b[38;5;34m109\u001b[0m, \u001b[38;5;34m64\u001b[0m)        │         \u001b[38;5;34m147,520\u001b[0m │\n",
       "├──────────────────────────────────────┼─────────────────────────────┼─────────────────┤\n",
       "│ conv2d_2 (\u001b[38;5;33mConv2D\u001b[0m)                    │ (\u001b[38;5;45mNone\u001b[0m, \u001b[38;5;34m107\u001b[0m, \u001b[38;5;34m107\u001b[0m, \u001b[38;5;34m64\u001b[0m)        │          \u001b[38;5;34m36,928\u001b[0m │\n",
       "├──────────────────────────────────────┼─────────────────────────────┼─────────────────┤\n",
       "│ max_pooling2d_1 (\u001b[38;5;33mMaxPooling2D\u001b[0m)       │ (\u001b[38;5;45mNone\u001b[0m, \u001b[38;5;34m53\u001b[0m, \u001b[38;5;34m53\u001b[0m, \u001b[38;5;34m64\u001b[0m)          │               \u001b[38;5;34m0\u001b[0m │\n",
       "├──────────────────────────────────────┼─────────────────────────────┼─────────────────┤\n",
       "│ conv2d_3 (\u001b[38;5;33mConv2D\u001b[0m)                    │ (\u001b[38;5;45mNone\u001b[0m, \u001b[38;5;34m51\u001b[0m, \u001b[38;5;34m51\u001b[0m, \u001b[38;5;34m16\u001b[0m)          │           \u001b[38;5;34m9,232\u001b[0m │\n",
       "├──────────────────────────────────────┼─────────────────────────────┼─────────────────┤\n",
       "│ conv2d_4 (\u001b[38;5;33mConv2D\u001b[0m)                    │ (\u001b[38;5;45mNone\u001b[0m, \u001b[38;5;34m49\u001b[0m, \u001b[38;5;34m49\u001b[0m, \u001b[38;5;34m16\u001b[0m)          │           \u001b[38;5;34m2,320\u001b[0m │\n",
       "├──────────────────────────────────────┼─────────────────────────────┼─────────────────┤\n",
       "│ max_pooling2d_2 (\u001b[38;5;33mMaxPooling2D\u001b[0m)       │ (\u001b[38;5;45mNone\u001b[0m, \u001b[38;5;34m24\u001b[0m, \u001b[38;5;34m24\u001b[0m, \u001b[38;5;34m16\u001b[0m)          │               \u001b[38;5;34m0\u001b[0m │\n",
       "├──────────────────────────────────────┼─────────────────────────────┼─────────────────┤\n",
       "│ batch_normalization                  │ (\u001b[38;5;45mNone\u001b[0m, \u001b[38;5;34m24\u001b[0m, \u001b[38;5;34m24\u001b[0m, \u001b[38;5;34m16\u001b[0m)          │              \u001b[38;5;34m64\u001b[0m │\n",
       "│ (\u001b[38;5;33mBatchNormalization\u001b[0m)                 │                             │                 │\n",
       "├──────────────────────────────────────┼─────────────────────────────┼─────────────────┤\n",
       "│ dropout (\u001b[38;5;33mDropout\u001b[0m)                    │ (\u001b[38;5;45mNone\u001b[0m, \u001b[38;5;34m24\u001b[0m, \u001b[38;5;34m24\u001b[0m, \u001b[38;5;34m16\u001b[0m)          │               \u001b[38;5;34m0\u001b[0m │\n",
       "├──────────────────────────────────────┼─────────────────────────────┼─────────────────┤\n",
       "│ flatten (\u001b[38;5;33mFlatten\u001b[0m)                    │ (\u001b[38;5;45mNone\u001b[0m, \u001b[38;5;34m9216\u001b[0m)                │               \u001b[38;5;34m0\u001b[0m │\n",
       "├──────────────────────────────────────┼─────────────────────────────┼─────────────────┤\n",
       "│ dense (\u001b[38;5;33mDense\u001b[0m)                        │ (\u001b[38;5;45mNone\u001b[0m, \u001b[38;5;34m128\u001b[0m)                 │       \u001b[38;5;34m1,179,776\u001b[0m │\n",
       "└──────────────────────────────────────┴─────────────────────────────┴─────────────────┘\n"
      ]
     },
     "metadata": {},
     "output_type": "display_data"
    },
    {
     "data": {
      "text/html": [
       "<pre style=\"white-space:pre;overflow-x:auto;line-height:normal;font-family:Menlo,'DejaVu Sans Mono',consolas,'Courier New',monospace\"><span style=\"font-weight: bold\"> Total params: </span><span style=\"color: #00af00; text-decoration-color: #00af00\">1,378,400</span> (5.26 MB)\n",
       "</pre>\n"
      ],
      "text/plain": [
       "\u001b[1m Total params: \u001b[0m\u001b[38;5;34m1,378,400\u001b[0m (5.26 MB)\n"
      ]
     },
     "metadata": {},
     "output_type": "display_data"
    },
    {
     "data": {
      "text/html": [
       "<pre style=\"white-space:pre;overflow-x:auto;line-height:normal;font-family:Menlo,'DejaVu Sans Mono',consolas,'Courier New',monospace\"><span style=\"font-weight: bold\"> Trainable params: </span><span style=\"color: #00af00; text-decoration-color: #00af00\">1,378,368</span> (5.26 MB)\n",
       "</pre>\n"
      ],
      "text/plain": [
       "\u001b[1m Trainable params: \u001b[0m\u001b[38;5;34m1,378,368\u001b[0m (5.26 MB)\n"
      ]
     },
     "metadata": {},
     "output_type": "display_data"
    },
    {
     "data": {
      "text/html": [
       "<pre style=\"white-space:pre;overflow-x:auto;line-height:normal;font-family:Menlo,'DejaVu Sans Mono',consolas,'Courier New',monospace\"><span style=\"font-weight: bold\"> Non-trainable params: </span><span style=\"color: #00af00; text-decoration-color: #00af00\">32</span> (128.00 B)\n",
       "</pre>\n"
      ],
      "text/plain": [
       "\u001b[1m Non-trainable params: \u001b[0m\u001b[38;5;34m32\u001b[0m (128.00 B)\n"
      ]
     },
     "metadata": {},
     "output_type": "display_data"
    }
   ],
   "source": [
    "# Build CNN1 with regularization\n",
    "def build_cnn1_with_regularization(input_shape):\n",
    "    inputs = layers.Input(shape=input_shape)\n",
    "    x = layers.Conv2D(256, (3, 3), activation='relu', kernel_regularizer=tf.keras.regularizers.l2(0.01))(inputs)\n",
    "    x = layers.MaxPooling2D((2, 2), strides=2)(x)\n",
    "    x = layers.Conv2D(64, (3, 3), activation='relu', kernel_regularizer=tf.keras.regularizers.l2(0.01))(x)\n",
    "    x = layers.Conv2D(64, (3, 3), activation='relu', kernel_regularizer=tf.keras.regularizers.l2(0.01))(x)\n",
    "    x = layers.MaxPooling2D((2, 2), strides=2)(x)\n",
    "    x = layers.Conv2D(16, (3, 3), activation='relu', kernel_regularizer=tf.keras.regularizers.l2(0.01))(x)\n",
    "    x = layers.Conv2D(16, (3, 3), activation='relu', kernel_regularizer=tf.keras.regularizers.l2(0.01))(x)\n",
    "    x = layers.MaxPooling2D((2, 2), strides=2)(x)\n",
    "    x = layers.BatchNormalization()(x)\n",
    "    x = layers.Dropout(0.5)(x)\n",
    "    x = layers.Flatten()(x)\n",
    "    x = layers.Dense(128, activation='relu', kernel_regularizer=tf.keras.regularizers.l2(0.01))(x)\n",
    "    #output = layers.Dense(3, activation='softmax')(x)  # Output layer size based on number of classes; used only if I will train that model alone\n",
    "    return models.Model(inputs=inputs, outputs=x)\n",
    "\n",
    "# Build and compile the model  \n",
    "input_shape = (224, 224, 1)  # Grayscale images  \n",
    "cnn_model1 = build_cnn1_with_regularization(input_shape) \n",
    "\n",
    "# Learning rate scheduler\n",
    "def lr_scheduler(epoch, lr):\n",
    "    return lr * 0.85  # Decay learning rate by 15% every epoch\n",
    "\n",
    "# Compile the model\n",
    "cnn_model1.compile(\n",
    "    optimizer=tf.keras.optimizers.Adam(learning_rate=1e-3),\n",
    "    loss='categorical_crossentropy',\n",
    "    metrics=['accuracy']\n",
    ")\n",
    "\n",
    "# Callbacks, we could use early stopper but in our case the epochs already is relatively small so it's unnecessary \n",
    "callbacks = [ \n",
    "    LearningRateScheduler(lr_scheduler) \n",
    "]\n",
    "\n",
    "cnn_model1.summary()"
   ]
  },
  {
   "cell_type": "code",
   "execution_count": 8,
   "id": "ed7cfd49",
   "metadata": {
    "execution": {
     "iopub.execute_input": "2025-01-05T17:11:06.800321Z",
     "iopub.status.busy": "2025-01-05T17:11:06.800061Z",
     "iopub.status.idle": "2025-01-05T17:11:07.257439Z",
     "shell.execute_reply": "2025-01-05T17:11:07.256203Z"
    },
    "papermill": {
     "duration": 0.466124,
     "end_time": "2025-01-05T17:11:07.258685",
     "exception": true,
     "start_time": "2025-01-05T17:11:06.792561",
     "status": "failed"
    },
    "tags": []
   },
   "outputs": [
    {
     "name": "stdout",
     "output_type": "stream",
     "text": [
      "Epoch 1/50\n"
     ]
    },
    {
     "ename": "ValueError",
     "evalue": "Arguments `target` and `output` must have the same shape. Received: target.shape=(None, 3), output.shape=(None, 128)",
     "output_type": "error",
     "traceback": [
      "\u001b[0;31m---------------------------------------------------------------------------\u001b[0m",
      "\u001b[0;31mValueError\u001b[0m                                Traceback (most recent call last)",
      "\u001b[0;32m<ipython-input-8-13543a686240>\u001b[0m in \u001b[0;36m<cell line: 2>\u001b[0;34m()\u001b[0m\n\u001b[1;32m      1\u001b[0m \u001b[0;31m# Train the model (Dropout 0.3)\u001b[0m\u001b[0;34m\u001b[0m\u001b[0;34m\u001b[0m\u001b[0m\n\u001b[0;32m----> 2\u001b[0;31m history = cnn_model1.fit(\n\u001b[0m\u001b[1;32m      3\u001b[0m     \u001b[0mtrain_ds\u001b[0m\u001b[0;34m,\u001b[0m\u001b[0;34m\u001b[0m\u001b[0;34m\u001b[0m\u001b[0m\n\u001b[1;32m      4\u001b[0m     \u001b[0mvalidation_data\u001b[0m\u001b[0;34m=\u001b[0m\u001b[0mval_ds\u001b[0m\u001b[0;34m,\u001b[0m\u001b[0;34m\u001b[0m\u001b[0;34m\u001b[0m\u001b[0m\n\u001b[1;32m      5\u001b[0m     \u001b[0mepochs\u001b[0m\u001b[0;34m=\u001b[0m\u001b[0;36m50\u001b[0m\u001b[0;34m,\u001b[0m\u001b[0;34m\u001b[0m\u001b[0;34m\u001b[0m\u001b[0m\n",
      "\u001b[0;32m/usr/local/lib/python3.10/dist-packages/keras/src/utils/traceback_utils.py\u001b[0m in \u001b[0;36merror_handler\u001b[0;34m(*args, **kwargs)\u001b[0m\n\u001b[1;32m    120\u001b[0m             \u001b[0;31m# To get the full stack trace, call:\u001b[0m\u001b[0;34m\u001b[0m\u001b[0;34m\u001b[0m\u001b[0m\n\u001b[1;32m    121\u001b[0m             \u001b[0;31m# `keras.config.disable_traceback_filtering()`\u001b[0m\u001b[0;34m\u001b[0m\u001b[0;34m\u001b[0m\u001b[0m\n\u001b[0;32m--> 122\u001b[0;31m             \u001b[0;32mraise\u001b[0m \u001b[0me\u001b[0m\u001b[0;34m.\u001b[0m\u001b[0mwith_traceback\u001b[0m\u001b[0;34m(\u001b[0m\u001b[0mfiltered_tb\u001b[0m\u001b[0;34m)\u001b[0m \u001b[0;32mfrom\u001b[0m \u001b[0;32mNone\u001b[0m\u001b[0;34m\u001b[0m\u001b[0;34m\u001b[0m\u001b[0m\n\u001b[0m\u001b[1;32m    123\u001b[0m         \u001b[0;32mfinally\u001b[0m\u001b[0;34m:\u001b[0m\u001b[0;34m\u001b[0m\u001b[0;34m\u001b[0m\u001b[0m\n\u001b[1;32m    124\u001b[0m             \u001b[0;32mdel\u001b[0m \u001b[0mfiltered_tb\u001b[0m\u001b[0;34m\u001b[0m\u001b[0;34m\u001b[0m\u001b[0m\n",
      "\u001b[0;32m/usr/local/lib/python3.10/dist-packages/keras/src/backend/tensorflow/nn.py\u001b[0m in \u001b[0;36mcategorical_crossentropy\u001b[0;34m(target, output, from_logits, axis)\u001b[0m\n\u001b[1;32m    559\u001b[0m     \u001b[0;32mfor\u001b[0m \u001b[0me1\u001b[0m\u001b[0;34m,\u001b[0m \u001b[0me2\u001b[0m \u001b[0;32min\u001b[0m \u001b[0mzip\u001b[0m\u001b[0;34m(\u001b[0m\u001b[0mtarget\u001b[0m\u001b[0;34m.\u001b[0m\u001b[0mshape\u001b[0m\u001b[0;34m,\u001b[0m \u001b[0moutput\u001b[0m\u001b[0;34m.\u001b[0m\u001b[0mshape\u001b[0m\u001b[0;34m)\u001b[0m\u001b[0;34m:\u001b[0m\u001b[0;34m\u001b[0m\u001b[0;34m\u001b[0m\u001b[0m\n\u001b[1;32m    560\u001b[0m         \u001b[0;32mif\u001b[0m \u001b[0me1\u001b[0m \u001b[0;32mis\u001b[0m \u001b[0;32mnot\u001b[0m \u001b[0;32mNone\u001b[0m \u001b[0;32mand\u001b[0m \u001b[0me2\u001b[0m \u001b[0;32mis\u001b[0m \u001b[0;32mnot\u001b[0m \u001b[0;32mNone\u001b[0m \u001b[0;32mand\u001b[0m \u001b[0me1\u001b[0m \u001b[0;34m!=\u001b[0m \u001b[0me2\u001b[0m\u001b[0;34m:\u001b[0m\u001b[0;34m\u001b[0m\u001b[0;34m\u001b[0m\u001b[0m\n\u001b[0;32m--> 561\u001b[0;31m             raise ValueError(\n\u001b[0m\u001b[1;32m    562\u001b[0m                 \u001b[0;34m\"Arguments `target` and `output` must have the same shape. \"\u001b[0m\u001b[0;34m\u001b[0m\u001b[0;34m\u001b[0m\u001b[0m\n\u001b[1;32m    563\u001b[0m                 \u001b[0;34m\"Received: \"\u001b[0m\u001b[0;34m\u001b[0m\u001b[0;34m\u001b[0m\u001b[0m\n",
      "\u001b[0;31mValueError\u001b[0m: Arguments `target` and `output` must have the same shape. Received: target.shape=(None, 3), output.shape=(None, 128)"
     ]
    }
   ],
   "source": [
    "# Train the model (Dropout 0.3)\n",
    "history = cnn_model1.fit(\n",
    "    train_ds,\n",
    "    validation_data=val_ds,\n",
    "    epochs=50,\n",
    "    batch_size=8,\n",
    "    callbacks=callbacks\n",
    ")"
   ]
  },
  {
   "cell_type": "code",
   "execution_count": null,
   "id": "4dd66a75",
   "metadata": {
    "execution": {
     "iopub.execute_input": "2025-01-05T13:36:30.770180Z",
     "iopub.status.busy": "2025-01-05T13:36:30.769869Z",
     "iopub.status.idle": "2025-01-05T13:36:30.776078Z",
     "shell.execute_reply": "2025-01-05T13:36:30.775044Z",
     "shell.execute_reply.started": "2025-01-05T13:36:30.770159Z"
    },
    "papermill": {
     "duration": null,
     "end_time": null,
     "exception": null,
     "start_time": null,
     "status": "pending"
    },
    "tags": []
   },
   "outputs": [],
   "source": [
    "# Plot training history\n",
    "def plot_history(history):\n",
    "    plt.figure(figsize=(12, 6))\n",
    "\n",
    "    # Plot accuracy\n",
    "    plt.subplot(1, 2, 1)\n",
    "    plt.plot(history.history['accuracy'], label='Train Accuracy')\n",
    "    plt.plot(history.history['val_accuracy'], label='Validation Accuracy')\n",
    "    plt.xlabel('Epochs')\n",
    "    plt.ylabel('Accuracy')\n",
    "    plt.legend()\n",
    "    plt.title('Accuracy Over Epochs')\n",
    "\n",
    "    # Plot loss\n",
    "    plt.subplot(1, 2, 2)\n",
    "    plt.plot(history.history['loss'], label='Train Loss')\n",
    "    plt.plot(history.history['val_loss'], label='Validation Loss')\n",
    "    plt.xlabel('Epochs')\n",
    "    plt.ylabel('Loss')\n",
    "    plt.legend()\n",
    "    plt.title('Loss Over Epochs')\n",
    "\n",
    "    plt.tight_layout()\n",
    "    plt.show()"
   ]
  },
  {
   "cell_type": "code",
   "execution_count": null,
   "id": "137d54b6",
   "metadata": {
    "execution": {
     "iopub.execute_input": "2025-01-05T13:36:39.027532Z",
     "iopub.status.busy": "2025-01-05T13:36:39.027232Z",
     "iopub.status.idle": "2025-01-05T13:36:39.574787Z",
     "shell.execute_reply": "2025-01-05T13:36:39.573928Z",
     "shell.execute_reply.started": "2025-01-05T13:36:39.027504Z"
    },
    "papermill": {
     "duration": null,
     "end_time": null,
     "exception": null,
     "start_time": null,
     "status": "pending"
    },
    "tags": []
   },
   "outputs": [],
   "source": [
    "plot_history(history) #(Dropout 0.3)"
   ]
  },
  {
   "cell_type": "code",
   "execution_count": null,
   "id": "6177d6ef",
   "metadata": {
    "execution": {
     "iopub.execute_input": "2025-01-05T13:38:23.265581Z",
     "iopub.status.busy": "2025-01-05T13:38:23.265233Z",
     "iopub.status.idle": "2025-01-05T13:38:29.482405Z",
     "shell.execute_reply": "2025-01-05T13:38:29.481678Z",
     "shell.execute_reply.started": "2025-01-05T13:38:23.265538Z"
    },
    "papermill": {
     "duration": null,
     "end_time": null,
     "exception": null,
     "start_time": null,
     "status": "pending"
    },
    "tags": []
   },
   "outputs": [],
   "source": [
    "# Evaluate the CNN1 model on the test dataset (Dropout 0.3)\n",
    "print(\"Evaluating the model on the test dataset...\")  \n",
    "test_loss, test_accuracy, true_classes, predicted_classes, predictions = evaluate_model(cnn_model1, test_ds, num_classes)  \n",
    "\n",
    "# Plot confusion matrix  \n",
    "plot_confusion_matrix(true_classes, predicted_classes, class_names)  \n",
    "\n",
    "# Plot ROC curve  \n",
    "plot_roc_curve(predictions, true_classes, num_classes)  \n",
    "\n",
    "# Generate and print classification report  \n",
    "report = classification_report(true_classes, predicted_classes, target_names=class_names)  \n",
    "print(f\"Classification Report:\\n{report}\")"
   ]
  },
  {
   "cell_type": "code",
   "execution_count": null,
   "id": "2c05001f",
   "metadata": {
    "execution": {
     "iopub.execute_input": "2025-01-05T13:39:48.673877Z",
     "iopub.status.busy": "2025-01-05T13:39:48.673487Z",
     "iopub.status.idle": "2025-01-05T13:44:37.983895Z",
     "shell.execute_reply": "2025-01-05T13:44:37.983006Z",
     "shell.execute_reply.started": "2025-01-05T13:39:48.673853Z"
    },
    "papermill": {
     "duration": null,
     "end_time": null,
     "exception": null,
     "start_time": null,
     "status": "pending"
    },
    "tags": []
   },
   "outputs": [],
   "source": [
    "# Train the model (Dropout 0.4)\n",
    "history = cnn_model1.fit(\n",
    "    train_ds,\n",
    "    validation_data=val_ds,\n",
    "    epochs=50,\n",
    "    batch_size=8,\n",
    "    callbacks=callbacks\n",
    ")"
   ]
  },
  {
   "cell_type": "code",
   "execution_count": null,
   "id": "492c43ef",
   "metadata": {
    "execution": {
     "iopub.execute_input": "2025-01-05T13:44:47.321859Z",
     "iopub.status.busy": "2025-01-05T13:44:47.321488Z",
     "iopub.status.idle": "2025-01-05T13:44:47.822438Z",
     "shell.execute_reply": "2025-01-05T13:44:47.821585Z",
     "shell.execute_reply.started": "2025-01-05T13:44:47.321831Z"
    },
    "papermill": {
     "duration": null,
     "end_time": null,
     "exception": null,
     "start_time": null,
     "status": "pending"
    },
    "tags": []
   },
   "outputs": [],
   "source": [
    "plot_history(history) #(Dropout 0.4)"
   ]
  },
  {
   "cell_type": "code",
   "execution_count": null,
   "id": "f5f8faae",
   "metadata": {
    "execution": {
     "iopub.execute_input": "2025-01-05T13:44:52.262739Z",
     "iopub.status.busy": "2025-01-05T13:44:52.262380Z",
     "iopub.status.idle": "2025-01-05T13:44:55.440914Z",
     "shell.execute_reply": "2025-01-05T13:44:55.440230Z",
     "shell.execute_reply.started": "2025-01-05T13:44:52.262713Z"
    },
    "papermill": {
     "duration": null,
     "end_time": null,
     "exception": null,
     "start_time": null,
     "status": "pending"
    },
    "tags": []
   },
   "outputs": [],
   "source": [
    "# Evaluate the CNN1 model on the test dataset (Dropout 0.4)\n",
    "print(\"Evaluating the model on the test dataset...\")  \n",
    "test_loss, test_accuracy, true_classes, predicted_classes, predictions = evaluate_model(cnn_model1, test_ds, num_classes)  \n",
    "\n",
    "# Plot confusion matrix  \n",
    "plot_confusion_matrix(true_classes, predicted_classes, class_names)  \n",
    "\n",
    "# Plot ROC curve  \n",
    "plot_roc_curve(predictions, true_classes, num_classes)  \n",
    "\n",
    "# Generate and print classification report  \n",
    "report = classification_report(true_classes, predicted_classes, target_names=class_names)  \n",
    "print(f\"Classification Report:\\n{report}\")"
   ]
  },
  {
   "cell_type": "code",
   "execution_count": null,
   "id": "0c2910ce",
   "metadata": {
    "execution": {
     "iopub.execute_input": "2025-01-05T13:46:56.666594Z",
     "iopub.status.busy": "2025-01-05T13:46:56.666227Z",
     "iopub.status.idle": "2025-01-05T13:52:09.286360Z",
     "shell.execute_reply": "2025-01-05T13:52:09.285646Z",
     "shell.execute_reply.started": "2025-01-05T13:46:56.666546Z"
    },
    "papermill": {
     "duration": null,
     "end_time": null,
     "exception": null,
     "start_time": null,
     "status": "pending"
    },
    "tags": []
   },
   "outputs": [],
   "source": [
    "# Train the model (Dropout 0.5)\n",
    "history = cnn_model1.fit(\n",
    "    train_ds,\n",
    "    validation_data=val_ds,\n",
    "    epochs=50,\n",
    "    batch_size=8,\n",
    "    callbacks=callbacks\n",
    ")"
   ]
  },
  {
   "cell_type": "code",
   "execution_count": null,
   "id": "dc77eeae",
   "metadata": {
    "execution": {
     "iopub.execute_input": "2025-01-05T13:52:12.953720Z",
     "iopub.status.busy": "2025-01-05T13:52:12.953351Z",
     "iopub.status.idle": "2025-01-05T13:52:13.359478Z",
     "shell.execute_reply": "2025-01-05T13:52:13.358666Z",
     "shell.execute_reply.started": "2025-01-05T13:52:12.953691Z"
    },
    "papermill": {
     "duration": null,
     "end_time": null,
     "exception": null,
     "start_time": null,
     "status": "pending"
    },
    "tags": []
   },
   "outputs": [],
   "source": [
    "plot_history(history) #Dropout 0.5"
   ]
  },
  {
   "cell_type": "code",
   "execution_count": null,
   "id": "28224a45",
   "metadata": {
    "execution": {
     "iopub.execute_input": "2025-01-05T13:52:47.684495Z",
     "iopub.status.busy": "2025-01-05T13:52:47.684171Z",
     "iopub.status.idle": "2025-01-05T13:52:50.772499Z",
     "shell.execute_reply": "2025-01-05T13:52:50.771806Z",
     "shell.execute_reply.started": "2025-01-05T13:52:47.684472Z"
    },
    "papermill": {
     "duration": null,
     "end_time": null,
     "exception": null,
     "start_time": null,
     "status": "pending"
    },
    "tags": []
   },
   "outputs": [],
   "source": [
    "# Evaluate the CNN1 model on the test dataset (Dropout 0.5)\n",
    "print(\"Evaluating the model on the test dataset...\")  \n",
    "test_loss, test_accuracy, true_classes, predicted_classes, predictions = evaluate_model(cnn_model1, test_ds, num_classes)  \n",
    "\n",
    "# Plot confusion matrix  \n",
    "plot_confusion_matrix(true_classes, predicted_classes, class_names)  \n",
    "\n",
    "# Plot ROC curve  \n",
    "plot_roc_curve(predictions, true_classes, num_classes)  \n",
    "\n",
    "# Generate and print classification report  \n",
    "report = classification_report(true_classes, predicted_classes, target_names=class_names)  \n",
    "print(f\"Classification Report:\\n{report}\")"
   ]
  },
  {
   "cell_type": "code",
   "execution_count": null,
   "id": "136493e0",
   "metadata": {
    "execution": {
     "iopub.execute_input": "2025-01-02T20:59:04.706495Z",
     "iopub.status.busy": "2025-01-02T20:59:04.706112Z",
     "iopub.status.idle": "2025-01-02T20:59:05.209584Z",
     "shell.execute_reply": "2025-01-02T20:59:05.208647Z",
     "shell.execute_reply.started": "2025-01-02T20:59:04.706463Z"
    },
    "papermill": {
     "duration": null,
     "end_time": null,
     "exception": null,
     "start_time": null,
     "status": "pending"
    },
    "tags": []
   },
   "outputs": [],
   "source": [
    "plot_history(history) #from last time run"
   ]
  },
  {
   "cell_type": "code",
   "execution_count": null,
   "id": "61d3d619",
   "metadata": {
    "execution": {
     "iopub.execute_input": "2025-01-05T13:36:58.743203Z",
     "iopub.status.busy": "2025-01-05T13:36:58.742898Z",
     "iopub.status.idle": "2025-01-05T13:36:58.752439Z",
     "shell.execute_reply": "2025-01-05T13:36:58.751463Z",
     "shell.execute_reply.started": "2025-01-05T13:36:58.743183Z"
    },
    "papermill": {
     "duration": null,
     "end_time": null,
     "exception": null,
     "start_time": null,
     "status": "pending"
    },
    "tags": []
   },
   "outputs": [],
   "source": [
    "# Function to evaluate the model on the test dataset  \n",
    "def evaluate_model(model, test_ds, num_classes):  \n",
    "    test_loss, test_accuracy = model.evaluate(test_ds)  # Evaluate the model  \n",
    "    print(f'Test Loss: {test_loss}, Test Accuracy: {test_accuracy}')  \n",
    "\n",
    "    # Extract test images and labels from the test dataset  \n",
    "    test_images = []  \n",
    "    test_labels = []  \n",
    "\n",
    "    for images, labels in test_ds:  \n",
    "        test_images.append(images.numpy())  # Collecting images  \n",
    "        test_labels.append(labels.numpy())  # Collecting labels  \n",
    "\n",
    "    test_images = np.concatenate(test_images)  # Combine all batches of images  \n",
    "    test_labels = np.concatenate(test_labels)  # Combine all batches of labels  \n",
    "\n",
    "    # Predict class probabilities  \n",
    "    predictions = model.predict(test_images)  # Make predictions  \n",
    "    predicted_classes = np.argmax(predictions, axis=1)  # Get predicted class indices  \n",
    "    true_classes = np.argmax(test_labels, axis=1)  # Get true class indices  \n",
    "\n",
    "    return test_loss, test_accuracy, true_classes, predicted_classes, predictions  \n",
    "\n",
    "# Function to plot confusion matrix  \n",
    "def plot_confusion_matrix(true_classes, predicted_classes, class_names):  \n",
    "    cm = confusion_matrix(true_classes, predicted_classes)  \n",
    "    disp = ConfusionMatrixDisplay(confusion_matrix=cm, display_labels=class_names)  \n",
    "    disp.plot(cmap='viridis', values_format='d')  \n",
    "    plt.title('Confusion Matrix')  \n",
    "    plt.show()  \n",
    "\n",
    "# Function to plot ROC curve  \n",
    "def plot_roc_curve(predictions, true_classes, num_classes):  \n",
    "    # Binarize the test labels (for multi-class ROC)  \n",
    "    y_test_bin = label_binarize(true_classes, classes=np.arange(num_classes))  \n",
    "    \n",
    "    fpr = {}  \n",
    "    tpr = {}  \n",
    "    roc_auc = {}  \n",
    "\n",
    "    for i in range(num_classes):  \n",
    "        fpr[i], tpr[i], _ = roc_curve(y_test_bin[:, i], predictions[:, i])  \n",
    "        roc_auc[i] = auc(fpr[i], tpr[i])  \n",
    "\n",
    "    plt.figure(figsize=(8, 6))  \n",
    "    for i in range(num_classes):  \n",
    "        plt.plot(fpr[i], tpr[i], label=f'Class {i} (AUC = {roc_auc[i]:.2f})')  \n",
    "    plt.plot([0, 1], [0, 1], 'k--')  # Diagonal line for random guessing  \n",
    "    plt.xlabel('False Positive Rate')  \n",
    "    plt.ylabel('True Positive Rate')  \n",
    "    plt.title('ROC Curve')  \n",
    "    plt.legend(loc='lower right')  \n",
    "    plt.show()  \n",
    "\n",
    "# Define number of classes and class names (like ['AD', 'CN', 'MCI'])  \n",
    "num_classes = len(label_mapping)  # Assuming you've defined this earlier in your code  \n",
    "class_names = list(label_mapping.keys())  # Use keys from your label mapping to get class names  "
   ]
  },
  {
   "cell_type": "code",
   "execution_count": null,
   "id": "1a49f1fc",
   "metadata": {
    "execution": {
     "iopub.execute_input": "2025-01-02T21:00:03.149603Z",
     "iopub.status.busy": "2025-01-02T21:00:03.149217Z",
     "iopub.status.idle": "2025-01-02T21:00:06.445331Z",
     "shell.execute_reply": "2025-01-02T21:00:06.444654Z",
     "shell.execute_reply.started": "2025-01-02T21:00:03.149575Z"
    },
    "papermill": {
     "duration": null,
     "end_time": null,
     "exception": null,
     "start_time": null,
     "status": "pending"
    },
    "tags": []
   },
   "outputs": [],
   "source": [
    "# Evaluate the model on the test dataset  \n",
    "print(\"Evaluating the model on the test dataset...\")  \n",
    "test_loss, test_accuracy, true_classes, predicted_classes, predictions = evaluate_model(cnn_model1, test_ds, num_classes)  \n",
    "\n",
    "# Plot confusion matrix  \n",
    "plot_confusion_matrix(true_classes, predicted_classes, class_names)  \n",
    "\n",
    "# Plot ROC curve  \n",
    "plot_roc_curve(predictions, true_classes, num_classes)  \n",
    "\n",
    "# Generate and print classification report  \n",
    "report = classification_report(true_classes, predicted_classes, target_names=class_names)  "
   ]
  },
  {
   "cell_type": "code",
   "execution_count": null,
   "id": "8295657f",
   "metadata": {
    "execution": {
     "iopub.execute_input": "2025-01-02T21:01:33.787670Z",
     "iopub.status.busy": "2025-01-02T21:01:33.787291Z",
     "iopub.status.idle": "2025-01-02T21:01:33.792308Z",
     "shell.execute_reply": "2025-01-02T21:01:33.791506Z",
     "shell.execute_reply.started": "2025-01-02T21:01:33.787641Z"
    },
    "papermill": {
     "duration": null,
     "end_time": null,
     "exception": null,
     "start_time": null,
     "status": "pending"
    },
    "tags": []
   },
   "outputs": [],
   "source": [
    "print(f\"Classification Report:\\n{report}\")"
   ]
  },
  {
   "cell_type": "markdown",
   "id": "3a614014",
   "metadata": {
    "papermill": {
     "duration": null,
     "end_time": null,
     "exception": null,
     "start_time": null,
     "status": "pending"
    },
    "tags": []
   },
   "source": []
  },
  {
   "cell_type": "code",
   "execution_count": null,
   "id": "1aabed46",
   "metadata": {
    "execution": {
     "iopub.execute_input": "2025-01-05T14:50:05.103361Z",
     "iopub.status.busy": "2025-01-05T14:50:05.103064Z",
     "iopub.status.idle": "2025-01-05T14:50:05.164594Z",
     "shell.execute_reply": "2025-01-05T14:50:05.163933Z",
     "shell.execute_reply.started": "2025-01-05T14:50:05.103341Z"
    },
    "papermill": {
     "duration": null,
     "end_time": null,
     "exception": null,
     "start_time": null,
     "status": "pending"
    },
    "tags": []
   },
   "outputs": [],
   "source": [
    "# Build CNN2 with regularization\n",
    "def build_cnn2_with_regularization(input_shape):\n",
    "    inputs = layers.Input(shape=input_shape)\n",
    "    x = layers.Conv2D(512, (5, 5), activation='relu', kernel_regularizer=tf.keras.regularizers.l2(0.01))(inputs)\n",
    "    x = layers.MaxPooling2D((2, 2), strides=2)(x)\n",
    "    x = layers.Conv2D(128, (5, 5), activation='relu', kernel_regularizer=tf.keras.regularizers.l2(0.01))(x)\n",
    "    x = layers.Conv2D(128, (5, 5), activation='relu', kernel_regularizer=tf.keras.regularizers.l2(0.01))(x)\n",
    "    x = layers.MaxPooling2D((2, 2), strides=2)(x)\n",
    "    x = layers.Conv2D(32, (5, 5), activation='relu', kernel_regularizer=tf.keras.regularizers.l2(0.01))(x)\n",
    "    x = layers.Conv2D(32, (5, 5), activation='relu', kernel_regularizer=tf.keras.regularizers.l2(0.01))(x)\n",
    "    x = layers.MaxPooling2D((2, 2), strides=2)(x)\n",
    "    x = layers.BatchNormalization()(x)\n",
    "    x = layers.Dropout(0.5)(x)\n",
    "    x = layers.Flatten()(x)\n",
    "    x = layers.Dense(128, activation='relu', kernel_regularizer=tf.keras.regularizers.l2(0.01))(x)\n",
    "    #output = layers.Dense(3, activation='softmax')(x)  # Output layer size based on number of classes\n",
    "    return models.Model(inputs=inputs, outputs=x)\n",
    "\n",
    "# Build and compile the model  \n",
    "input_shape = (224, 224, 1)  # Grayscale images  \n",
    "cnn_model2 = build_cnn2_with_regularization(input_shape) \n",
    "\n",
    "# Learning rate scheduler\n",
    "def lr_scheduler(epoch, lr):\n",
    "    return lr * 0.85  # Decay learning rate by 10% every epoch\n",
    "\n",
    "# Compile the model\n",
    "cnn_model2.compile(\n",
    "    optimizer=tf.keras.optimizers.Adam(learning_rate=1e-3),\n",
    "    loss='categorical_crossentropy',\n",
    "    metrics=['accuracy']\n",
    ")\n",
    "\n",
    "# Callbacks\n",
    "callbacks = [\n",
    "    LearningRateScheduler(lr_scheduler)\n",
    "]"
   ]
  },
  {
   "cell_type": "code",
   "execution_count": null,
   "id": "afbb152d",
   "metadata": {
    "execution": {
     "iopub.execute_input": "2025-01-05T14:50:08.603623Z",
     "iopub.status.busy": "2025-01-05T14:50:08.603292Z",
     "iopub.status.idle": "2025-01-05T14:50:08.623294Z",
     "shell.execute_reply": "2025-01-05T14:50:08.622635Z",
     "shell.execute_reply.started": "2025-01-05T14:50:08.603596Z"
    },
    "papermill": {
     "duration": null,
     "end_time": null,
     "exception": null,
     "start_time": null,
     "status": "pending"
    },
    "tags": []
   },
   "outputs": [],
   "source": [
    "cnn_model2.summary()"
   ]
  },
  {
   "cell_type": "code",
   "execution_count": null,
   "id": "f15fb1c4",
   "metadata": {
    "execution": {
     "iopub.execute_input": "2025-01-05T13:54:42.754763Z",
     "iopub.status.busy": "2025-01-05T13:54:42.754421Z",
     "iopub.status.idle": "2025-01-05T14:13:21.841845Z",
     "shell.execute_reply": "2025-01-05T14:13:21.840972Z",
     "shell.execute_reply.started": "2025-01-05T13:54:42.754737Z"
    },
    "papermill": {
     "duration": null,
     "end_time": null,
     "exception": null,
     "start_time": null,
     "status": "pending"
    },
    "tags": []
   },
   "outputs": [],
   "source": [
    "# Train the model (Dropout 0.3)\n",
    "history2 = cnn_model2.fit(\n",
    "    train_ds,\n",
    "    validation_data=val_ds,\n",
    "    epochs=50,\n",
    "    batch_size=8,\n",
    "    callbacks=callbacks\n",
    ")"
   ]
  },
  {
   "cell_type": "code",
   "execution_count": null,
   "id": "2a7c53fd",
   "metadata": {
    "execution": {
     "iopub.execute_input": "2025-01-05T14:13:41.939461Z",
     "iopub.status.busy": "2025-01-05T14:13:41.939144Z",
     "iopub.status.idle": "2025-01-05T14:13:42.444351Z",
     "shell.execute_reply": "2025-01-05T14:13:42.443571Z",
     "shell.execute_reply.started": "2025-01-05T14:13:41.939435Z"
    },
    "papermill": {
     "duration": null,
     "end_time": null,
     "exception": null,
     "start_time": null,
     "status": "pending"
    },
    "tags": []
   },
   "outputs": [],
   "source": [
    "plot_history(history2) #Dropout 0.3"
   ]
  },
  {
   "cell_type": "code",
   "execution_count": null,
   "id": "40690837",
   "metadata": {
    "execution": {
     "iopub.execute_input": "2025-01-05T14:13:46.870190Z",
     "iopub.status.busy": "2025-01-05T14:13:46.869915Z",
     "iopub.status.idle": "2025-01-05T14:13:58.157884Z",
     "shell.execute_reply": "2025-01-05T14:13:58.157212Z",
     "shell.execute_reply.started": "2025-01-05T14:13:46.870169Z"
    },
    "papermill": {
     "duration": null,
     "end_time": null,
     "exception": null,
     "start_time": null,
     "status": "pending"
    },
    "tags": []
   },
   "outputs": [],
   "source": [
    "# Evaluate the CNN1 model on the test dataset (Dropout 0.3)\n",
    "print(\"Evaluating the model on the test dataset...\")  \n",
    "test_loss, test_accuracy, true_classes, predicted_classes, predictions = evaluate_model(cnn_model2, test_ds, num_classes)  \n",
    "\n",
    "# Plot confusion matrix  \n",
    "plot_confusion_matrix(true_classes, predicted_classes, class_names)  \n",
    "\n",
    "# Plot ROC curve  \n",
    "plot_roc_curve(predictions, true_classes, num_classes)  \n",
    "\n",
    "# Generate and print classification report  \n",
    "report = classification_report(true_classes, predicted_classes, target_names=class_names)  \n",
    "print(f\"Classification Report:\\n{report}\")"
   ]
  },
  {
   "cell_type": "code",
   "execution_count": null,
   "id": "4efa5af2",
   "metadata": {
    "execution": {
     "iopub.execute_input": "2025-01-05T14:16:23.321434Z",
     "iopub.status.busy": "2025-01-05T14:16:23.321153Z",
     "iopub.status.idle": "2025-01-05T14:34:27.251650Z",
     "shell.execute_reply": "2025-01-05T14:34:27.250935Z",
     "shell.execute_reply.started": "2025-01-05T14:16:23.321414Z"
    },
    "papermill": {
     "duration": null,
     "end_time": null,
     "exception": null,
     "start_time": null,
     "status": "pending"
    },
    "tags": []
   },
   "outputs": [],
   "source": [
    "# Train the model (Dropout 0.5)\n",
    "history2 = cnn_model2.fit(\n",
    "    train_ds,\n",
    "    validation_data=val_ds,\n",
    "    epochs=50,\n",
    "    batch_size=8,\n",
    "    callbacks=callbacks\n",
    ")"
   ]
  },
  {
   "cell_type": "code",
   "execution_count": null,
   "id": "5f35b64c",
   "metadata": {
    "execution": {
     "iopub.execute_input": "2025-01-05T14:48:20.600320Z",
     "iopub.status.busy": "2025-01-05T14:48:20.600012Z",
     "iopub.status.idle": "2025-01-05T14:48:21.000632Z",
     "shell.execute_reply": "2025-01-05T14:48:20.999822Z",
     "shell.execute_reply.started": "2025-01-05T14:48:20.600298Z"
    },
    "papermill": {
     "duration": null,
     "end_time": null,
     "exception": null,
     "start_time": null,
     "status": "pending"
    },
    "tags": []
   },
   "outputs": [],
   "source": [
    "plot_history(history2) #Dropout 0.5"
   ]
  },
  {
   "cell_type": "code",
   "execution_count": null,
   "id": "1e91d87a",
   "metadata": {
    "execution": {
     "iopub.execute_input": "2025-01-05T14:48:29.981109Z",
     "iopub.status.busy": "2025-01-05T14:48:29.980794Z",
     "iopub.status.idle": "2025-01-05T14:48:34.140020Z",
     "shell.execute_reply": "2025-01-05T14:48:34.138906Z",
     "shell.execute_reply.started": "2025-01-05T14:48:29.981084Z"
    },
    "papermill": {
     "duration": null,
     "end_time": null,
     "exception": null,
     "start_time": null,
     "status": "pending"
    },
    "tags": []
   },
   "outputs": [],
   "source": [
    "# Evaluate the CNN2 model on the test dataset (Dropout 0.5)\n",
    "print(\"Evaluating the model on the test dataset...\")  \n",
    "test_loss, test_accuracy, true_classes, predicted_classes, predictions = evaluate_model(cnn_model2, test_ds, num_classes)  \n",
    "\n",
    "# Plot confusion matrix  \n",
    "plot_confusion_matrix(true_classes, predicted_classes, class_names)  \n",
    "\n",
    "# Plot ROC curve  \n",
    "plot_roc_curve(predictions, true_classes, num_classes)  \n",
    "\n",
    "# Generate and print classification report  \n",
    "report = classification_report(true_classes, predicted_classes, target_names=class_names)  \n",
    "print(f\"Classification Report:\\n{report}\")"
   ]
  },
  {
   "cell_type": "code",
   "execution_count": null,
   "id": "0a098b59",
   "metadata": {
    "execution": {
     "iopub.execute_input": "2025-01-05T15:36:06.424375Z",
     "iopub.status.busy": "2025-01-05T15:36:06.424073Z",
     "iopub.status.idle": "2025-01-05T15:36:06.574028Z",
     "shell.execute_reply": "2025-01-05T15:36:06.573375Z",
     "shell.execute_reply.started": "2025-01-05T15:36:06.424350Z"
    },
    "papermill": {
     "duration": null,
     "end_time": null,
     "exception": null,
     "start_time": null,
     "status": "pending"
    },
    "tags": []
   },
   "outputs": [],
   "source": [
    "# Create CNN1 and CNN2\n",
    "input_shape = (224, 224, 1)  # Adjusted for consistency\n",
    "cnn1 = build_cnn1_with_regularization(input_shape)\n",
    "cnn2 = build_cnn2_with_regularization(input_shape)\n",
    "\n",
    "# Combine the models without duplicate input\n",
    "def combine_models(cnn1, cnn2):\n",
    "    shared_input = layers.Input(shape=(224, 224, 1))  # Shared input layer\n",
    "    output1 = cnn1(shared_input)  # Output from CNN1\n",
    "    output2 = cnn2(shared_input)  # Output from CNN2\n",
    "    combined_output = layers.concatenate([output1, output2])  # Concatenate outputs\n",
    "    x = layers.Dense(128, activation='relu')(combined_output)  # Additional dense layer\n",
    "    x = layers.Dropout(0.2)(x)  # Add Dropout layer before final output\n",
    "    final_output = layers.Dense(3, activation='softmax')(x)\n",
    "    return models.Model(inputs=shared_input, outputs=final_output)\n",
    "\n",
    "# Build combined model\n",
    "combined_cnn = combine_models(cnn1, cnn2)\n",
    "\n",
    "# Compile the combined model\n",
    "combined_cnn.compile(\n",
    "    optimizer=tf.keras.optimizers.Adam(learning_rate=1e-3),\n",
    "    loss='categorical_crossentropy',\n",
    "    metrics=['accuracy']\n",
    ")\n",
    "\n",
    "# Learning rate scheduler\n",
    "def lr_scheduler(epoch, lr):\n",
    "    return lr * 0.9  # Decay learning rate by 5% every epoch\n",
    "\n",
    "# Callbacks\n",
    "callbacks = [\n",
    "    tf.keras.callbacks.LearningRateScheduler(lr_scheduler)\n",
    "]\n",
    "\n",
    "# Summary of the combined model\n",
    "combined_cnn.summary()\n"
   ]
  },
  {
   "cell_type": "code",
   "execution_count": null,
   "id": "4b349063",
   "metadata": {
    "execution": {
     "iopub.execute_input": "2025-01-05T15:36:11.965206Z",
     "iopub.status.busy": "2025-01-05T15:36:11.964920Z",
     "iopub.status.idle": "2025-01-05T15:59:49.572987Z",
     "shell.execute_reply": "2025-01-05T15:59:49.572157Z",
     "shell.execute_reply.started": "2025-01-05T15:36:11.965186Z"
    },
    "papermill": {
     "duration": null,
     "end_time": null,
     "exception": null,
     "start_time": null,
     "status": "pending"
    },
    "tags": []
   },
   "outputs": [],
   "source": [
    "# Train the combined model\n",
    "history_comined = combined_cnn.fit(\n",
    "    train_ds,\n",
    "    validation_data=val_ds,\n",
    "    epochs=50,\n",
    "    batch_size=8,\n",
    "    callbacks=callbacks\n",
    ")\n",
    "\n",
    "# Plot training history\n",
    "plot_history(history)"
   ]
  },
  {
   "cell_type": "code",
   "execution_count": null,
   "id": "59dd1188",
   "metadata": {
    "execution": {
     "iopub.execute_input": "2025-01-05T16:01:43.491077Z",
     "iopub.status.busy": "2025-01-05T16:01:43.490755Z",
     "iopub.status.idle": "2025-01-05T16:01:48.882797Z",
     "shell.execute_reply": "2025-01-05T16:01:48.882046Z",
     "shell.execute_reply.started": "2025-01-05T16:01:43.491055Z"
    },
    "papermill": {
     "duration": null,
     "end_time": null,
     "exception": null,
     "start_time": null,
     "status": "pending"
    },
    "tags": []
   },
   "outputs": [],
   "source": [
    "# Evaluate the combined model on the test dataset  \n",
    "print(\"Evaluating combined model on the test dataset...\")  \n",
    "test_loss, test_accuracy, true_classes, predicted_classes, predictions = evaluate_model(combined_cnn, test_ds, num_classes)  \n",
    "\n",
    "# Plot confusion matrix  \n",
    "plot_confusion_matrix(true_classes, predicted_classes, class_names)  \n",
    "\n",
    "# Plot ROC curve  \n",
    "plot_roc_curve(predictions, true_classes, num_classes)  \n",
    "\n",
    "# Generate and print classification report  \n",
    "report = classification_report(true_classes, predicted_classes, target_names=class_names)  \n",
    "print(f\"Classification Report:\\n{report}\")"
   ]
  },
  {
   "cell_type": "code",
   "execution_count": null,
   "id": "52cf0f90",
   "metadata": {
    "execution": {
     "iopub.execute_input": "2025-01-02T21:24:56.933066Z",
     "iopub.status.busy": "2025-01-02T21:24:56.932770Z",
     "iopub.status.idle": "2025-01-02T21:24:57.464096Z",
     "shell.execute_reply": "2025-01-02T21:24:57.463133Z",
     "shell.execute_reply.started": "2025-01-02T21:24:56.933044Z"
    },
    "papermill": {
     "duration": null,
     "end_time": null,
     "exception": null,
     "start_time": null,
     "status": "pending"
    },
    "tags": []
   },
   "outputs": [],
   "source": [
    "plot_history(history2)#last run"
   ]
  },
  {
   "cell_type": "code",
   "execution_count": null,
   "id": "2678e09f",
   "metadata": {
    "execution": {
     "iopub.execute_input": "2025-01-02T21:28:03.407616Z",
     "iopub.status.busy": "2025-01-02T21:28:03.407235Z",
     "iopub.status.idle": "2025-01-02T21:28:07.743367Z",
     "shell.execute_reply": "2025-01-02T21:28:07.742542Z",
     "shell.execute_reply.started": "2025-01-02T21:28:03.407591Z"
    },
    "papermill": {
     "duration": null,
     "end_time": null,
     "exception": null,
     "start_time": null,
     "status": "pending"
    },
    "tags": []
   },
   "outputs": [],
   "source": [
    "# Evaluate the model on the test dataset  \n",
    "print(\"Evaluating CNN2 model on the test dataset...\")  \n",
    "test_loss, test_accuracy, true_classes, predicted_classes, predictions = evaluate_model(cnn_model2, test_ds, num_classes)  \n",
    "\n",
    "# Plot confusion matrix  \n",
    "plot_confusion_matrix(true_classes, predicted_classes, class_names)  \n",
    "\n",
    "# Plot ROC curve  \n",
    "plot_roc_curve(predictions, true_classes, num_classes)  \n",
    "\n",
    "# Generate and print classification report  \n",
    "report = classification_report(true_classes, predicted_classes, target_names=class_names)  \n",
    "print(f\"Classification Report:\\n{report}\")"
   ]
  },
  {
   "cell_type": "code",
   "execution_count": null,
   "id": "85102ac9",
   "metadata": {
    "execution": {
     "iopub.execute_input": "2025-01-02T23:31:04.389732Z",
     "iopub.status.busy": "2025-01-02T23:31:04.389396Z",
     "iopub.status.idle": "2025-01-02T23:31:04.532468Z",
     "shell.execute_reply": "2025-01-02T23:31:04.531552Z",
     "shell.execute_reply.started": "2025-01-02T23:31:04.389705Z"
    },
    "papermill": {
     "duration": null,
     "end_time": null,
     "exception": null,
     "start_time": null,
     "status": "pending"
    },
    "tags": []
   },
   "outputs": [],
   "source": [
    "# Create CNN1 and CNN2\n",
    "input_shape = (224, 224, 1)  # Adjusted for consistency\n",
    "cnn1 = build_cnn1_with_regularization(input_shape)\n",
    "cnn2 = build_cnn2_with_regularization(input_shape)\n",
    "\n",
    "# Combine the models without duplicate input\n",
    "def combine_models(cnn1, cnn2):\n",
    "    shared_input = layers.Input(shape=(224, 224, 1))  # Shared input layer\n",
    "    output1 = cnn1(shared_input)  # Output from CNN1\n",
    "    output2 = cnn2(shared_input)  # Output from CNN2\n",
    "    combined_output = layers.concatenate([output1, output2])  # Concatenate outputs\n",
    "    x = layers.Dense(128, activation='relu')(combined_output)  # Additional dense layer\n",
    "    #x = layers.Dropout(0.2)(x)  # Add Dropout layer before final output\n",
    "    final_output = layers.Dense(3, activation='softmax')(x)\n",
    "    return models.Model(inputs=shared_input, outputs=final_output)\n",
    "\n",
    "# Build combined model\n",
    "combined_cnn = combine_models(cnn1, cnn2)\n",
    "\n",
    "# Compile the combined model\n",
    "combined_cnn.compile(\n",
    "    optimizer=tf.keras.optimizers.Adam(learning_rate=1e-3),\n",
    "    loss='categorical_crossentropy',\n",
    "    metrics=['accuracy']\n",
    ")\n",
    "\n",
    "# Learning rate scheduler\n",
    "def lr_scheduler(epoch, lr):\n",
    "    return lr * 0.95  # Decay learning rate by 10% every epoch\n",
    "\n",
    "# Callbacks\n",
    "callbacks = [\n",
    "    tf.keras.callbacks.LearningRateScheduler(lr_scheduler)\n",
    "]\n",
    "\n",
    "# Summary of the combined model\n",
    "combined_cnn.summary()\n"
   ]
  },
  {
   "cell_type": "code",
   "execution_count": null,
   "id": "cad3d8a9",
   "metadata": {
    "execution": {
     "iopub.execute_input": "2025-01-02T23:31:12.325895Z",
     "iopub.status.busy": "2025-01-02T23:31:12.325593Z",
     "iopub.status.idle": "2025-01-02T23:53:36.054774Z",
     "shell.execute_reply": "2025-01-02T23:53:36.053828Z",
     "shell.execute_reply.started": "2025-01-02T23:31:12.325871Z"
    },
    "papermill": {
     "duration": null,
     "end_time": null,
     "exception": null,
     "start_time": null,
     "status": "pending"
    },
    "tags": []
   },
   "outputs": [],
   "source": [
    "# Train the combined model\n",
    "history_comined = combined_cnn.fit(\n",
    "    train_ds,\n",
    "    validation_data=val_ds,\n",
    "    epochs=50,\n",
    "    batch_size=8,\n",
    "    callbacks=callbacks\n",
    ")\n",
    "\n",
    "# Plot training history\n",
    "plot_history(history)"
   ]
  },
  {
   "cell_type": "code",
   "execution_count": null,
   "id": "880654e4",
   "metadata": {
    "execution": {
     "iopub.execute_input": "2025-01-02T23:53:48.744138Z",
     "iopub.status.busy": "2025-01-02T23:53:48.743828Z",
     "iopub.status.idle": "2025-01-02T23:53:54.241978Z",
     "shell.execute_reply": "2025-01-02T23:53:54.241272Z",
     "shell.execute_reply.started": "2025-01-02T23:53:48.744114Z"
    },
    "papermill": {
     "duration": null,
     "end_time": null,
     "exception": null,
     "start_time": null,
     "status": "pending"
    },
    "tags": []
   },
   "outputs": [],
   "source": [
    "# Evaluate the combined model on the test dataset  \n",
    "print(\"Evaluating CNN2 model on the test dataset...\")  \n",
    "test_loss, test_accuracy, true_classes, predicted_classes, predictions = evaluate_model(combined_cnn, test_ds, num_classes)  \n",
    "\n",
    "# Plot confusion matrix  \n",
    "plot_confusion_matrix(true_classes, predicted_classes, class_names)  \n",
    "\n",
    "# Plot ROC curve  \n",
    "plot_roc_curve(predictions, true_classes, num_classes)  \n",
    "\n",
    "# Generate and print classification report  \n",
    "report = classification_report(true_classes, predicted_classes, target_names=class_names)  \n",
    "print(f\"Classification Report:\\n{report}\")"
   ]
  }
 ],
 "metadata": {
  "kaggle": {
   "accelerator": "gpu",
   "dataSources": [
    {
     "datasetId": 6414434,
     "sourceId": 10357582,
     "sourceType": "datasetVersion"
    }
   ],
   "dockerImageVersionId": 30823,
   "isGpuEnabled": true,
   "isInternetEnabled": true,
   "language": "python",
   "sourceType": "notebook"
  },
  "kernelspec": {
   "display_name": "Python 3",
   "language": "python",
   "name": "python3"
  },
  "language_info": {
   "codemirror_mode": {
    "name": "ipython",
    "version": 3
   },
   "file_extension": ".py",
   "mimetype": "text/x-python",
   "name": "python",
   "nbconvert_exporter": "python",
   "pygments_lexer": "ipython3",
   "version": "3.10.12"
  },
  "papermill": {
   "default_parameters": {},
   "duration": 21.169479,
   "end_time": "2025-01-05T17:11:08.686704",
   "environment_variables": {},
   "exception": true,
   "input_path": "__notebook__.ipynb",
   "output_path": "__notebook__.ipynb",
   "parameters": {},
   "start_time": "2025-01-05T17:10:47.517225",
   "version": "2.6.0"
  }
 },
 "nbformat": 4,
 "nbformat_minor": 5
}
