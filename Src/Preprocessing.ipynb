{
  "nbformat": 4,
  "nbformat_minor": 0,
  "metadata": {
    "colab": {
      "provenance": []
    },
    "kernelspec": {
      "name": "python3",
      "display_name": "Python 3"
    },
    "language_info": {
      "name": "python"
    }
  },
  "cells": [
    {
      "cell_type": "code",
      "execution_count": null,
      "metadata": {
        "id": "IpQCX2Qjlz9n"
      },
      "outputs": [],
      "source": [
        "!pip install antspyx\n",
        "! pip install pydicom nibabel dicom2nifti"
      ]
    },
    {
      "cell_type": "code",
      "source": [
        "import ants\n",
        "import matplotlib.pyplot as plt\n",
        "import numpy as np\n",
        "import pydicom\n",
        "import nibabel as nib\n",
        "import dicom2nifti\n",
        "import os"
      ],
      "metadata": {
        "id": "0b9i10dcl5NX"
      },
      "execution_count": null,
      "outputs": []
    },
    {
      "cell_type": "code",
      "source": [
        "from google.colab import drive\n",
        "drive.mount('/content/drive')\n",
        "import os"
      ],
      "metadata": {
        "id": "DkeiZtRFl7hO"
      },
      "execution_count": null,
      "outputs": []
    },
    {
      "cell_type": "code",
      "source": [
        "def loading_ims(img, template= \"MNI152_T1_1mm.nii\", brain_mask=  \"MNI152_T1_1mm_Brain_Mask.nii\"):\n",
        "    mri_image = ants.image_read(img, reorient='IAL')\n",
        "    template_image = ants.image_read(template, reorient='IAL')\n",
        "    brain_mask = ants.image_read(brain_mask, reorient='IAL')\n",
        "\n",
        "    img_MRI_resampled = ants.resample_image(mri_image, (1, 1, 1.2), False, 4)\n",
        "    img_template_resampled = ants.resample_image(template_image, (1, 1, 1.2), False, 4)\n",
        "    return img_MRI_resampled, img_template_resampled, brain_mask\n",
        "\n",
        "def regestration(img_MRI_resampled, img_template_resampled):\n",
        "    affine_registration = ants.registration(fixed=img_template_resampled, moving=img_MRI_resampled, type_of_transform=\"Affine\")\n",
        "    img_MRI_resampled_aligned = affine_registration['warpedmovout']\n",
        "    registration = ants.registration(fixed=img_template_resampled, moving=img_MRI_resampled_aligned, type_of_transform=\"SyN\")\n",
        "    aligned_image = registration['warpedmovout']\n",
        "    return aligned_image\n",
        "\n",
        "def brain_masking(aligned_image, brain_mask):\n",
        "    brain_mask = ants.resample_image_to_target(brain_mask, aligned_image)\n",
        "    brain_only_image = aligned_image * brain_mask\n",
        "    return brain_only_image\n",
        "\n",
        "def winsorizing_biasfield(brain_only_image):\n",
        "    winsorized = ants.iMath(brain_only_image, \"TruncateIntensity\", 0.05, 0.95)\n",
        "    n4_corrected_image = ants.n4_bias_field_correction(winsorized)\n",
        "    return n4_corrected_image\n",
        "\n",
        "\n",
        "def normalize_image(img):\n",
        "    img_array = img.numpy()\n",
        "    normalized_array = (img_array - np.min(img_array)) / (np.max(img_array) - np.min(img_array))\n",
        "    normalized_image = ants.from_numpy(normalized_array, spacing=img.spacing)\n",
        "    return normalized_image\n",
        "\n",
        "\n",
        "def downsample_image(img):\n",
        "    downsampled_image = ants.resample_image(img, (64,64,64), use_voxels=True)\n",
        "    return downsampled_image\n",
        "\n",
        "\n",
        "def visualization(img):\n",
        "    slice_index = img.shape[2] // 2\n",
        "    slice_to_display = img.numpy()[:, :, slice_index]\n",
        "    plt.imshow(slice_to_display, cmap='gray')\n",
        "    plt.title('Image Visualization')\n",
        "    plt.show()\n",
        "    print(\"Image visualization completed.\")"
      ],
      "metadata": {
        "id": "EJbC1OpQl95z"
      },
      "execution_count": null,
      "outputs": []
    },
    {
      "cell_type": "code",
      "source": [
        "#@title Cobvering Dicom to Niftii\n",
        "import os\n",
        "import dicom2nifti\n",
        "\n",
        "root_directory = '/content/drive/MyDrive/MachineLearning_AD_Project/Data/MCI/ADNI'\n",
        "\n",
        "# Recursive function to navigate directories and process directories with multiple .dcm files\n",
        "def process_and_convert_folders(directory, output_folder):\n",
        "    # loop through items in the current directory\n",
        "    for item in os.listdir(directory):\n",
        "        item_path = os.path.join(directory, item)  # Get the full path\n",
        "\n",
        "        # If the item is a directory, recurse into it\n",
        "        if os.path.isdir(item_path):\n",
        "            process_and_convert_folders(item_path, output_folder)  # recurse into the subdirectory\n",
        "\n",
        "    dicom_files = []  # Collect all .dcm files in the directory\n",
        "    for file in os.listdir(directory):\n",
        "        if file.endswith(\".dcm\"):\n",
        "            dicom_files.append(os.path.join(directory, file))\n",
        "\n",
        "    if len(dicom_files) > 1:  # Process only if multiple DICOM files are found\n",
        "        dicom2nifti.convert_dir.convert_directory(directory, output_folder, compression=True, reorient=True)\n",
        "\n",
        "output_folder = '/content/drive/MyDrive/MachineLearning_AD_Project/Data/MCI/Converted'\n",
        "process_and_convert_folders(root_directory, output_folder)"
      ],
      "metadata": {
        "id": "Y1-vQrVAmIul"
      },
      "execution_count": null,
      "outputs": []
    },
    {
      "cell_type": "code",
      "source": [
        "#@title preprocessing the converted images and saving them\n",
        "import os\n",
        "import ants\n",
        "\n",
        "=root_directory = r'/content/drive/MyDrive/MachineLearning_AD_Project/Data/MCI/Converted'\n",
        "saved_directory = r\"/content/drive/MyDrive/MachineLearning_AD_Project/Data/MCI/preprocessed\"\n",
        "\n",
        "\n",
        "def apply_pipeline(img_path):\n",
        "    img_MRI_resampled, img_template_resampled, brain_mask_image = loading_ims(\n",
        "            img= img_path,\n",
        "            template=\"MNI152_T1_1mm.nii\",\n",
        "            brain_mask=\"MNI152_T1_1mm_Brain_Mask.nii\"\n",
        "        )\n",
        "\n",
        "    aligned_image = regestration(img_MRI_resampled, img_template_resampled)\n",
        "    brain_only_image = brain_masking(aligned_image, brain_mask_image)\n",
        "    preprocessed_image = winsorizing_biasfield(brain_only_image)\n",
        "    save_path = os.path.join(saved_directory, f\"{filename}_preprocessed.nii\")\n",
        "    ants.image_write(preprocessed_image, save_path)\n",
        "\n",
        "def process_folders(directory):\n",
        "    for item in os.listdir(directory):\n",
        "        item_path = os.path.join(directory, item)\n",
        "        if os.path.isdir(item_path): # if this directory not file\n",
        "            process_folders(item_path)\n",
        "\n",
        "        # if the item is not a directory, check for .dcm files\n",
        "        elif os.path.isfile(item_path) and item_path.endswith(\".nii\"):\n",
        "            apply_pipeline(item_path)\n",
        "\n",
        "process_folders(root_directory)"
      ],
      "metadata": {
        "id": "mVLY7ei7memR"
      },
      "execution_count": null,
      "outputs": []
    }
  ]
}